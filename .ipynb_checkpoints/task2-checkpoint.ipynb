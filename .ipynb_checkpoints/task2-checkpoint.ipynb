{
 "cells": [
  {
   "cell_type": "code",
   "execution_count": null,
   "id": "cb58ba65",
   "metadata": {},
   "outputs": [],
   "source": []
  },
  {
   "cell_type": "code",
   "execution_count": 1,
   "id": "b8a19de0",
   "metadata": {
    "ExecuteTime": {
     "end_time": "2022-01-24T19:46:16.121303Z",
     "start_time": "2022-01-24T19:46:13.864235Z"
    }
   },
   "outputs": [],
   "source": [
    "import pandas as pd\n",
    "import numpy as np\n",
    "import seaborn as sns\n",
    "import matplotlib.pyplot as plt\n",
    "%matplotlib inline\n",
    "from matplotlib.pyplot import figure\n",
    "from matplotlib import style"
   ]
  },
  {
   "cell_type": "code",
   "execution_count": 2,
   "id": "9ac1109f",
   "metadata": {
    "ExecuteTime": {
     "end_time": "2022-01-24T19:46:16.137167Z",
     "start_time": "2022-01-24T19:46:16.123748Z"
    }
   },
   "outputs": [],
   "source": [
    "# To see all the columns \n",
    "pd.set_option('display.max_columns', 85)\n",
    "pd.set_option('display.max_rows', 300)"
   ]
  },
  {
   "cell_type": "code",
   "execution_count": 3,
   "id": "74108729",
   "metadata": {
    "ExecuteTime": {
     "end_time": "2022-01-24T19:46:16.356106Z",
     "start_time": "2022-01-24T19:46:16.138158Z"
    }
   },
   "outputs": [],
   "source": [
    "df = pd.read_csv(\"C://CompletePython//DataScience//BigData/LoanStats.csv\")"
   ]
  },
  {
   "cell_type": "code",
   "execution_count": 4,
   "id": "16799ad1",
   "metadata": {
    "ExecuteTime": {
     "end_time": "2022-01-24T19:46:16.387014Z",
     "start_time": "2022-01-24T19:46:16.361091Z"
    }
   },
   "outputs": [
    {
     "data": {
      "text/plain": [
       "(39786, 7)"
      ]
     },
     "execution_count": 4,
     "metadata": {},
     "output_type": "execute_result"
    }
   ],
   "source": [
    "df.shape"
   ]
  },
  {
   "cell_type": "code",
   "execution_count": 5,
   "id": "beb2246c",
   "metadata": {
    "ExecuteTime": {
     "end_time": "2022-01-24T19:46:16.418929Z",
     "start_time": "2022-01-24T19:46:16.388012Z"
    }
   },
   "outputs": [
    {
     "data": {
      "text/html": [
       "<div>\n",
       "<style scoped>\n",
       "    .dataframe tbody tr th:only-of-type {\n",
       "        vertical-align: middle;\n",
       "    }\n",
       "\n",
       "    .dataframe tbody tr th {\n",
       "        vertical-align: top;\n",
       "    }\n",
       "\n",
       "    .dataframe thead th {\n",
       "        text-align: right;\n",
       "    }\n",
       "</style>\n",
       "<table border=\"1\" class=\"dataframe\">\n",
       "  <thead>\n",
       "    <tr style=\"text-align: right;\">\n",
       "      <th></th>\n",
       "      <th>int_rate</th>\n",
       "      <th>loan_amnt</th>\n",
       "      <th>term</th>\n",
       "      <th>grade</th>\n",
       "      <th>home_ownership</th>\n",
       "      <th>annual_inc</th>\n",
       "      <th>purpose</th>\n",
       "    </tr>\n",
       "  </thead>\n",
       "  <tbody>\n",
       "    <tr>\n",
       "      <th>0</th>\n",
       "      <td>10.65</td>\n",
       "      <td>5000</td>\n",
       "      <td>36</td>\n",
       "      <td>B</td>\n",
       "      <td>RENT</td>\n",
       "      <td>24000.0</td>\n",
       "      <td>credit_card</td>\n",
       "    </tr>\n",
       "    <tr>\n",
       "      <th>1</th>\n",
       "      <td>15.27</td>\n",
       "      <td>2500</td>\n",
       "      <td>60</td>\n",
       "      <td>C</td>\n",
       "      <td>RENT</td>\n",
       "      <td>30000.0</td>\n",
       "      <td>car</td>\n",
       "    </tr>\n",
       "    <tr>\n",
       "      <th>2</th>\n",
       "      <td>15.96</td>\n",
       "      <td>2400</td>\n",
       "      <td>36</td>\n",
       "      <td>C</td>\n",
       "      <td>RENT</td>\n",
       "      <td>12252.0</td>\n",
       "      <td>small_business</td>\n",
       "    </tr>\n",
       "    <tr>\n",
       "      <th>3</th>\n",
       "      <td>13.49</td>\n",
       "      <td>10000</td>\n",
       "      <td>36</td>\n",
       "      <td>C</td>\n",
       "      <td>RENT</td>\n",
       "      <td>49200.0</td>\n",
       "      <td>other</td>\n",
       "    </tr>\n",
       "    <tr>\n",
       "      <th>4</th>\n",
       "      <td>12.69</td>\n",
       "      <td>3000</td>\n",
       "      <td>60</td>\n",
       "      <td>B</td>\n",
       "      <td>RENT</td>\n",
       "      <td>80000.0</td>\n",
       "      <td>other</td>\n",
       "    </tr>\n",
       "  </tbody>\n",
       "</table>\n",
       "</div>"
      ],
      "text/plain": [
       "   int_rate  loan_amnt  term grade home_ownership  annual_inc         purpose\n",
       "0     10.65       5000    36     B           RENT     24000.0     credit_card\n",
       "1     15.27       2500    60     C           RENT     30000.0             car\n",
       "2     15.96       2400    36     C           RENT     12252.0  small_business\n",
       "3     13.49      10000    36     C           RENT     49200.0           other\n",
       "4     12.69       3000    60     B           RENT     80000.0           other"
      ]
     },
     "execution_count": 5,
     "metadata": {},
     "output_type": "execute_result"
    }
   ],
   "source": [
    "df.head()"
   ]
  },
  {
   "cell_type": "code",
   "execution_count": 6,
   "id": "7494df66",
   "metadata": {
    "ExecuteTime": {
     "end_time": "2022-01-24T19:46:16.434648Z",
     "start_time": "2022-01-24T19:46:16.419927Z"
    }
   },
   "outputs": [
    {
     "data": {
      "text/plain": [
       "int_rate          float64\n",
       "loan_amnt           int64\n",
       "term                int64\n",
       "grade              object\n",
       "home_ownership     object\n",
       "annual_inc        float64\n",
       "purpose            object\n",
       "dtype: object"
      ]
     },
     "execution_count": 6,
     "metadata": {},
     "output_type": "execute_result"
    }
   ],
   "source": [
    "## Interest rate is your target variable.\n",
    "df.dtypes"
   ]
  },
  {
   "cell_type": "code",
   "execution_count": 7,
   "id": "2ff5d70b",
   "metadata": {
    "ExecuteTime": {
     "end_time": "2022-01-24T19:46:16.465543Z",
     "start_time": "2022-01-24T19:46:16.436588Z"
    }
   },
   "outputs": [
    {
     "data": {
      "text/html": [
       "<div>\n",
       "<style scoped>\n",
       "    .dataframe tbody tr th:only-of-type {\n",
       "        vertical-align: middle;\n",
       "    }\n",
       "\n",
       "    .dataframe tbody tr th {\n",
       "        vertical-align: top;\n",
       "    }\n",
       "\n",
       "    .dataframe thead th {\n",
       "        text-align: right;\n",
       "    }\n",
       "</style>\n",
       "<table border=\"1\" class=\"dataframe\">\n",
       "  <thead>\n",
       "    <tr style=\"text-align: right;\">\n",
       "      <th></th>\n",
       "      <th>int_rate</th>\n",
       "      <th>loan_amnt</th>\n",
       "      <th>term</th>\n",
       "      <th>annual_inc</th>\n",
       "    </tr>\n",
       "  </thead>\n",
       "  <tbody>\n",
       "    <tr>\n",
       "      <th>count</th>\n",
       "      <td>39786.000000</td>\n",
       "      <td>39786.000000</td>\n",
       "      <td>39786.000000</td>\n",
       "      <td>3.978600e+04</td>\n",
       "    </tr>\n",
       "    <tr>\n",
       "      <th>mean</th>\n",
       "      <td>12.027873</td>\n",
       "      <td>11231.360277</td>\n",
       "      <td>42.448499</td>\n",
       "      <td>6.897907e+04</td>\n",
       "    </tr>\n",
       "    <tr>\n",
       "      <th>std</th>\n",
       "      <td>3.727466</td>\n",
       "      <td>7464.542832</td>\n",
       "      <td>10.638782</td>\n",
       "      <td>6.376263e+04</td>\n",
       "    </tr>\n",
       "    <tr>\n",
       "      <th>min</th>\n",
       "      <td>5.420000</td>\n",
       "      <td>500.000000</td>\n",
       "      <td>36.000000</td>\n",
       "      <td>4.000000e+03</td>\n",
       "    </tr>\n",
       "    <tr>\n",
       "      <th>25%</th>\n",
       "      <td>9.250000</td>\n",
       "      <td>5500.000000</td>\n",
       "      <td>36.000000</td>\n",
       "      <td>4.050000e+04</td>\n",
       "    </tr>\n",
       "    <tr>\n",
       "      <th>50%</th>\n",
       "      <td>11.860000</td>\n",
       "      <td>10000.000000</td>\n",
       "      <td>36.000000</td>\n",
       "      <td>5.900000e+04</td>\n",
       "    </tr>\n",
       "    <tr>\n",
       "      <th>75%</th>\n",
       "      <td>14.590000</td>\n",
       "      <td>15000.000000</td>\n",
       "      <td>60.000000</td>\n",
       "      <td>8.234250e+04</td>\n",
       "    </tr>\n",
       "    <tr>\n",
       "      <th>max</th>\n",
       "      <td>24.590000</td>\n",
       "      <td>35000.000000</td>\n",
       "      <td>60.000000</td>\n",
       "      <td>6.000000e+06</td>\n",
       "    </tr>\n",
       "  </tbody>\n",
       "</table>\n",
       "</div>"
      ],
      "text/plain": [
       "           int_rate     loan_amnt          term    annual_inc\n",
       "count  39786.000000  39786.000000  39786.000000  3.978600e+04\n",
       "mean      12.027873  11231.360277     42.448499  6.897907e+04\n",
       "std        3.727466   7464.542832     10.638782  6.376263e+04\n",
       "min        5.420000    500.000000     36.000000  4.000000e+03\n",
       "25%        9.250000   5500.000000     36.000000  4.050000e+04\n",
       "50%       11.860000  10000.000000     36.000000  5.900000e+04\n",
       "75%       14.590000  15000.000000     60.000000  8.234250e+04\n",
       "max       24.590000  35000.000000     60.000000  6.000000e+06"
      ]
     },
     "execution_count": 7,
     "metadata": {},
     "output_type": "execute_result"
    }
   ],
   "source": [
    "df.describe()"
   ]
  },
  {
   "cell_type": "code",
   "execution_count": 8,
   "id": "78b10494",
   "metadata": {
    "ExecuteTime": {
     "end_time": "2022-01-24T19:46:16.480475Z",
     "start_time": "2022-01-24T19:46:16.467524Z"
    }
   },
   "outputs": [
    {
     "data": {
      "text/plain": [
       "0"
      ]
     },
     "execution_count": 8,
     "metadata": {},
     "output_type": "execute_result"
    }
   ],
   "source": [
    "df.isna().sum().sum()"
   ]
  },
  {
   "cell_type": "markdown",
   "id": "41ba2630",
   "metadata": {},
   "source": [
    "### NOTES:\n",
    "    1. No null values \n",
    "    2. There is no column with the \n",
    "    "
   ]
  },
  {
   "cell_type": "code",
   "execution_count": 9,
   "id": "94f84182",
   "metadata": {
    "ExecuteTime": {
     "end_time": "2022-01-24T19:46:16.496591Z",
     "start_time": "2022-01-24T19:46:16.482466Z"
    }
   },
   "outputs": [
    {
     "data": {
      "text/plain": [
       "grade\n",
       "A    10085\n",
       "B    12035\n",
       "C     8111\n",
       "D     5325\n",
       "E     2858\n",
       "F     1054\n",
       "G      318\n",
       "Name: grade, dtype: int64"
      ]
     },
     "execution_count": 9,
     "metadata": {},
     "output_type": "execute_result"
    }
   ],
   "source": [
    "df.groupby('grade')['grade'].agg('count')"
   ]
  },
  {
   "cell_type": "code",
   "execution_count": 10,
   "id": "766e265f",
   "metadata": {
    "ExecuteTime": {
     "end_time": "2022-01-24T19:46:16.511748Z",
     "start_time": "2022-01-24T19:46:16.497425Z"
    }
   },
   "outputs": [
    {
     "data": {
      "text/plain": [
       "term\n",
       "36    29096\n",
       "60    10690\n",
       "Name: term, dtype: int64"
      ]
     },
     "execution_count": 10,
     "metadata": {},
     "output_type": "execute_result"
    }
   ],
   "source": [
    "df.groupby('term')['term'].agg('count')"
   ]
  },
  {
   "cell_type": "markdown",
   "id": "fd73ef8e",
   "metadata": {},
   "source": [
    "### OUTLIER DETECTION AND REMOVAL"
   ]
  },
  {
   "cell_type": "code",
   "execution_count": 11,
   "id": "9cb0a6ce",
   "metadata": {
    "ExecuteTime": {
     "end_time": "2022-01-24T19:46:16.732815Z",
     "start_time": "2022-01-24T19:46:16.512388Z"
    }
   },
   "outputs": [
    {
     "data": {
      "text/plain": [
       "<matplotlib.legend.Legend at 0x28090084c40>"
      ]
     },
     "execution_count": 11,
     "metadata": {},
     "output_type": "execute_result"
    },
    {
     "data": {
      "image/png": "[encoded data removed]",
      "text/plain": [
       "<Figure size 864x576 with 1 Axes>"
      ]
     },
     "metadata": {
      "needs_background": "light"
     },
     "output_type": "display_data"
    }
   ],
   "source": [
    "bins = [5000,10000,15000,20000,25000,30000,35000,40000]\n",
    "plt.figure(figsize=(12,8))\n",
    "plt.hist(df['loan_amnt'],bins, rwidth=0.8, label=\"loan_amount\")\n",
    "plt.title(\"Histogram of loan_amnt\")\n",
    "plt.xlabel(\"loan_amnt Category\")\n",
    "plt.ylabel(\"Number of people in the category\")\n",
    "plt.legend()\n"
   ]
  },
  {
   "cell_type": "code",
   "execution_count": 12,
   "id": "c5e72080",
   "metadata": {
    "ExecuteTime": {
     "end_time": "2022-01-24T19:46:16.926284Z",
     "start_time": "2022-01-24T19:46:16.733793Z"
    },
    "scrolled": true
   },
   "outputs": [
    {
     "data": {
      "text/plain": [
       "<matplotlib.legend.Legend at 0x28090122fa0>"
      ]
     },
     "execution_count": 12,
     "metadata": {},
     "output_type": "execute_result"
    },
    {
     "data": {
      "image/png": "[encoded data removed]",
      "text/plain": [
       "<Figure size 864x576 with 1 Axes>"
      ]
     },
     "metadata": {
      "needs_background": "light"
     },
     "output_type": "display_data"
    }
   ],
   "source": [
    "bins = [20000,40000,60000,80000,100000,120000,140000,160000,180000,200000, 220000]\n",
    "plt.figure(figsize=(12,8))\n",
    "plt.hist(df['annual_inc'],bins, rwidth=0.8, label=\"annual_income\")\n",
    "plt.title(\"Histogram of Annual income\")\n",
    "plt.xlabel(\"Annual Income Category\")\n",
    "plt.ylabel(\"Number of people in the category\")\n",
    "plt.legend()"
   ]
  },
  {
   "cell_type": "markdown",
   "id": "bdfce825",
   "metadata": {},
   "source": [
    "NOTES:\n",
    "1. Annual income and Loan amount both are right skewed\n",
    "2. People with higher income have less tendency for applying loans\n",
    "3. People with income between 20000 to 75000 are the ones who apply for the more loans\n",
    "4. Most of the loans taken range between 5000 to 15000\n"
   ]
  },
  {
   "cell_type": "code",
   "execution_count": 13,
   "id": "a211efdb",
   "metadata": {
    "ExecuteTime": {
     "end_time": "2022-01-24T19:46:17.113507Z",
     "start_time": "2022-01-24T19:46:16.928280Z"
    },
    "scrolled": true
   },
   "outputs": [
    {
     "data": {
      "text/plain": [
       "<matplotlib.legend.Legend at 0x28090188fa0>"
      ]
     },
     "execution_count": 13,
     "metadata": {},
     "output_type": "execute_result"
    },
    {
     "data": {
      "image/png": "[encoded data removed]",
      "text/plain": [
       "<Figure size 432x288 with 1 Axes>"
      ]
     },
     "metadata": {
      "needs_background": "light"
     },
     "output_type": "display_data"
    }
   ],
   "source": [
    "bins = [20,40,60,80,100]\n",
    "plt.hist(df['term'],bins,rwidth=0.8, label=\"term\")\n",
    "plt.title(\"Histogram of term\")\n",
    "plt.xlabel(\"term Category\")\n",
    "plt.ylabel(\"Number of people in the term category\")\n",
    "plt.legend()"
   ]
  },
  {
   "cell_type": "code",
   "execution_count": 19,
   "id": "ec686481",
   "metadata": {
    "ExecuteTime": {
     "end_time": "2022-01-24T19:49:34.211919Z",
     "start_time": "2022-01-24T19:49:34.194245Z"
    }
   },
   "outputs": [],
   "source": [
    "import seaborn as sns"
   ]
  },
  {
   "cell_type": "code",
   "execution_count": 20,
   "id": "08832257",
   "metadata": {
    "ExecuteTime": {
     "end_time": "2022-01-24T19:49:35.573988Z",
     "start_time": "2022-01-24T19:49:35.300688Z"
    }
   },
   "outputs": [
    {
     "name": "stderr",
     "output_type": "stream",
     "text": [
      "C:\\Users\\Admin\\anaconda3\\lib\\site-packages\\seaborn\\_decorators.py:36: FutureWarning: Pass the following variables as keyword args: x, y. From version 0.12, the only valid positional argument will be `data`, and passing other arguments without an explicit keyword will result in an error or misinterpretation.\n",
      "  warnings.warn(\n"
     ]
    },
    {
     "data": {
      "image/png": "[encoded data removed]",
      "text/plain": [
       "<Figure size 1152x720 with 1 Axes>"
      ]
     },
     "metadata": {},
     "output_type": "display_data"
    }
   ],
   "source": [
    "sns.set(rc={'figure.figsize':(16,10)})\n",
    "x=df['grade']\n",
    "y=df['annual_inc']\n",
    "ax = sns.boxplot(x,y,color='g')\n",
    "ax.set(ylim=(0, 400000))\n",
    "ax.tick_params(axis='x', rotation=30)"
   ]
  },
  {
   "cell_type": "code",
   "execution_count": 21,
   "id": "b5aa4efc",
   "metadata": {
    "ExecuteTime": {
     "end_time": "2022-01-24T19:49:39.773977Z",
     "start_time": "2022-01-24T19:49:39.500058Z"
    }
   },
   "outputs": [
    {
     "name": "stderr",
     "output_type": "stream",
     "text": [
      "C:\\Users\\Admin\\anaconda3\\lib\\site-packages\\seaborn\\_decorators.py:36: FutureWarning: Pass the following variables as keyword args: x, y. From version 0.12, the only valid positional argument will be `data`, and passing other arguments without an explicit keyword will result in an error or misinterpretation.\n",
      "  warnings.warn(\n"
     ]
    },
    {
     "data": {
      "image/png": "[encoded data removed]",
      "text/plain": [
       "<Figure size 1152x720 with 1 Axes>"
      ]
     },
     "metadata": {},
     "output_type": "display_data"
    }
   ],
   "source": [
    "sns.set(rc={'figure.figsize':(16,10)})\n",
    "x=df['grade']\n",
    "y=df['int_rate']\n",
    "ax = sns.boxplot(x,y,color='m')\n",
    "ax.tick_params(axis='x', rotation=30)"
   ]
  },
  {
   "cell_type": "code",
   "execution_count": 22,
   "id": "0ea122f3",
   "metadata": {
    "ExecuteTime": {
     "end_time": "2022-01-24T19:49:43.946443Z",
     "start_time": "2022-01-24T19:49:43.551827Z"
    }
   },
   "outputs": [
    {
     "name": "stderr",
     "output_type": "stream",
     "text": [
      "C:\\Users\\Admin\\anaconda3\\lib\\site-packages\\seaborn\\_decorators.py:36: FutureWarning: Pass the following variables as keyword args: x, y. From version 0.12, the only valid positional argument will be `data`, and passing other arguments without an explicit keyword will result in an error or misinterpretation.\n",
      "  warnings.warn(\n"
     ]
    },
    {
     "data": {
      "image/png": "[encoded data removed]",
      "text/plain": [
       "<Figure size 1152x648 with 1 Axes>"
      ]
     },
     "metadata": {},
     "output_type": "display_data"
    }
   ],
   "source": [
    "sns.set(rc={'figure.figsize':(16,9)})\n",
    "x=df['purpose']\n",
    "y=df['int_rate']\n",
    "ax = sns.boxplot(x,y,color='b')\n",
    "ax.tick_params(axis='x', rotation=30)"
   ]
  },
  {
   "cell_type": "code",
   "execution_count": 23,
   "id": "47f941ca",
   "metadata": {
    "ExecuteTime": {
     "end_time": "2022-01-24T19:49:48.013318Z",
     "start_time": "2022-01-24T19:49:47.354236Z"
    }
   },
   "outputs": [
    {
     "name": "stderr",
     "output_type": "stream",
     "text": [
      "C:\\Users\\Admin\\anaconda3\\lib\\site-packages\\seaborn\\_decorators.py:36: FutureWarning: Pass the following variables as keyword args: x, y. From version 0.12, the only valid positional argument will be `data`, and passing other arguments without an explicit keyword will result in an error or misinterpretation.\n",
      "  warnings.warn(\n"
     ]
    },
    {
     "data": {
      "image/png": "[encoded data removed]",
      "text/plain": [
       "<Figure size 1152x720 with 1 Axes>"
      ]
     },
     "metadata": {},
     "output_type": "display_data"
    }
   ],
   "source": [
    "sns.set(rc={'figure.figsize':(16,10)})\n",
    "x=df['purpose']\n",
    "y=df['annual_inc']\n",
    "ax = sns.boxplot(x,y,color='purple')\n",
    "ax.set(ylim=(0, 400000))\n",
    "ax.tick_params(axis='x', rotation=30)"
   ]
  },
  {
   "cell_type": "markdown",
   "id": "b02097bc",
   "metadata": {},
   "source": [
    "Notes:\n",
    "1. From the above data we can make out that there are multiple outliers for different categories.\n"
   ]
  },
  {
   "cell_type": "code",
   "execution_count": 24,
   "id": "1a7bcfde",
   "metadata": {
    "ExecuteTime": {
     "end_time": "2022-01-24T19:49:51.988920Z",
     "start_time": "2022-01-24T19:49:51.725490Z"
    }
   },
   "outputs": [
    {
     "data": {
      "image/png": "[encoded data removed]",
      "text/plain": [
       "<Figure size 1152x720 with 2 Axes>"
      ]
     },
     "metadata": {},
     "output_type": "display_data"
    }
   ],
   "source": [
    "corrMatrix = df.corr()\n",
    "sns.heatmap(corrMatrix, annot=True)\n",
    "plt.show()"
   ]
  },
  {
   "cell_type": "markdown",
   "id": "d2a392dd",
   "metadata": {},
   "source": [
    "Notes:\n",
    "1. The features look quite important and correlated. Hence not dropping any columns\n"
   ]
  },
  {
   "cell_type": "code",
   "execution_count": 25,
   "id": "ec84f190",
   "metadata": {
    "ExecuteTime": {
     "end_time": "2022-01-24T19:50:15.905779Z",
     "start_time": "2022-01-24T19:50:15.886480Z"
    }
   },
   "outputs": [],
   "source": [
    "# OUTLIER REMOVAL for columns using 3s rule"
   ]
  },
  {
   "cell_type": "code",
   "execution_count": 26,
   "id": "5e0f661f",
   "metadata": {
    "ExecuteTime": {
     "end_time": "2022-01-24T19:50:16.934690Z",
     "start_time": "2022-01-24T19:50:16.883609Z"
    }
   },
   "outputs": [],
   "source": [
    "columns = ['int_rate', 'loan_amnt', 'annual_inc'] # one or more\n",
    "Q1 = df[columns].quantile(0.25)\n",
    "Q3 = df[columns].quantile(0.75)\n",
    "IQR = Q3 - Q1\n",
    "df = df[~((df[columns] < (Q1 - 1.5 * IQR)) | (df[columns] > (Q3 + 1.5 * IQR))).any(axis = 1)]"
   ]
  },
  {
   "cell_type": "code",
   "execution_count": 28,
   "id": "1f48099f",
   "metadata": {
    "ExecuteTime": {
     "end_time": "2022-01-24T19:50:51.642929Z",
     "start_time": "2022-01-24T19:50:51.621503Z"
    }
   },
   "outputs": [
    {
     "data": {
      "text/plain": [
       "(36943, 7)"
      ]
     },
     "execution_count": 28,
     "metadata": {},
     "output_type": "execute_result"
    }
   ],
   "source": [
    "df.shape"
   ]
  },
  {
   "cell_type": "code",
   "execution_count": 29,
   "id": "1fc2b881",
   "metadata": {
    "ExecuteTime": {
     "end_time": "2022-01-24T19:51:30.672004Z",
     "start_time": "2022-01-24T19:51:30.646004Z"
    }
   },
   "outputs": [
    {
     "data": {
      "text/plain": [
       "0"
      ]
     },
     "execution_count": 29,
     "metadata": {},
     "output_type": "execute_result"
    }
   ],
   "source": [
    "df.isna().sum().sum()"
   ]
  },
  {
   "cell_type": "markdown",
   "id": "0a5d7b39",
   "metadata": {},
   "source": [
    "### End OF EDA and DATA CLEANING"
   ]
  },
  {
   "cell_type": "markdown",
   "id": "b330b534",
   "metadata": {},
   "source": [
    "### FEATURE ENGINEERING OF COLUMNS"
   ]
  },
  {
   "cell_type": "code",
   "execution_count": 30,
   "id": "1850da3a",
   "metadata": {
    "ExecuteTime": {
     "end_time": "2022-01-24T20:03:49.236535Z",
     "start_time": "2022-01-24T20:03:49.172295Z"
    }
   },
   "outputs": [],
   "source": [
    "# Normalize the data\n",
    "from sklearn.preprocessing import minmax_scale\n",
    "df[['int_rate', 'loan_amnt', 'annual_inc']] = minmax_scale(df[['int_rate', 'loan_amnt', 'annual_inc']])"
   ]
  },
  {
   "cell_type": "markdown",
   "id": "b7a138b6",
   "metadata": {
    "ExecuteTime": {
     "end_time": "2022-01-24T20:04:47.782160Z",
     "start_time": "2022-01-24T20:04:47.756232Z"
    }
   },
   "source": [
    "# Encode the data\n",
    "# Nominal data encoding \n",
    "df=pd.get_dummies(df, columns=['home_ownership','purpose'], drop_first=True)"
   ]
  },
  {
   "cell_type": "code",
   "execution_count": 32,
   "id": "75919a59",
   "metadata": {
    "ExecuteTime": {
     "end_time": "2022-01-24T20:05:12.697313Z",
     "start_time": "2022-01-24T20:05:12.643882Z"
    }
   },
   "outputs": [],
   "source": [
    "# Ordinal data encoding\n",
    "from sklearn.preprocessing import LabelEncoder\n",
    "le = LabelEncoder()\n",
    "df.grade  = le.fit_transform(df.grade)\n",
    "df.term  = le.fit_transform(df.term)"
   ]
  },
  {
   "cell_type": "code",
   "execution_count": 33,
   "id": "18bbed10",
   "metadata": {
    "ExecuteTime": {
     "end_time": "2022-01-24T20:05:24.347387Z",
     "start_time": "2022-01-24T20:05:24.309794Z"
    }
   },
   "outputs": [
    {
     "data": {
      "text/html": [
       "<div>\n",
       "<style scoped>\n",
       "    .dataframe tbody tr th:only-of-type {\n",
       "        vertical-align: middle;\n",
       "    }\n",
       "\n",
       "    .dataframe tbody tr th {\n",
       "        vertical-align: top;\n",
       "    }\n",
       "\n",
       "    .dataframe thead th {\n",
       "        text-align: right;\n",
       "    }\n",
       "</style>\n",
       "<table border=\"1\" class=\"dataframe\">\n",
       "  <thead>\n",
       "    <tr style=\"text-align: right;\">\n",
       "      <th></th>\n",
       "      <th>int_rate</th>\n",
       "      <th>loan_amnt</th>\n",
       "      <th>term</th>\n",
       "      <th>grade</th>\n",
       "      <th>annual_inc</th>\n",
       "      <th>home_ownership_NONE</th>\n",
       "      <th>home_ownership_OTHER</th>\n",
       "      <th>home_ownership_OWN</th>\n",
       "      <th>home_ownership_RENT</th>\n",
       "      <th>purpose_credit_card</th>\n",
       "      <th>purpose_debt_consolidation</th>\n",
       "      <th>purpose_educational</th>\n",
       "      <th>purpose_home_improvement</th>\n",
       "      <th>purpose_house</th>\n",
       "      <th>purpose_major_purchase</th>\n",
       "      <th>purpose_medical</th>\n",
       "      <th>purpose_moving</th>\n",
       "      <th>purpose_other</th>\n",
       "      <th>purpose_renewable_energy</th>\n",
       "      <th>purpose_small_business</th>\n",
       "      <th>purpose_vacation</th>\n",
       "      <th>purpose_wedding</th>\n",
       "    </tr>\n",
       "  </thead>\n",
       "  <tbody>\n",
       "    <tr>\n",
       "      <th>0</th>\n",
       "      <td>0.306565</td>\n",
       "      <td>0.156931</td>\n",
       "      <td>0</td>\n",
       "      <td>1</td>\n",
       "      <td>0.141836</td>\n",
       "      <td>0</td>\n",
       "      <td>0</td>\n",
       "      <td>0</td>\n",
       "      <td>1</td>\n",
       "      <td>1</td>\n",
       "      <td>0</td>\n",
       "      <td>0</td>\n",
       "      <td>0</td>\n",
       "      <td>0</td>\n",
       "      <td>0</td>\n",
       "      <td>0</td>\n",
       "      <td>0</td>\n",
       "      <td>0</td>\n",
       "      <td>0</td>\n",
       "      <td>0</td>\n",
       "      <td>0</td>\n",
       "      <td>0</td>\n",
       "    </tr>\n",
       "    <tr>\n",
       "      <th>1</th>\n",
       "      <td>0.577374</td>\n",
       "      <td>0.069747</td>\n",
       "      <td>1</td>\n",
       "      <td>2</td>\n",
       "      <td>0.184387</td>\n",
       "      <td>0</td>\n",
       "      <td>0</td>\n",
       "      <td>0</td>\n",
       "      <td>1</td>\n",
       "      <td>0</td>\n",
       "      <td>0</td>\n",
       "      <td>0</td>\n",
       "      <td>0</td>\n",
       "      <td>0</td>\n",
       "      <td>0</td>\n",
       "      <td>0</td>\n",
       "      <td>0</td>\n",
       "      <td>0</td>\n",
       "      <td>0</td>\n",
       "      <td>0</td>\n",
       "      <td>0</td>\n",
       "      <td>0</td>\n",
       "    </tr>\n",
       "  </tbody>\n",
       "</table>\n",
       "</div>"
      ],
      "text/plain": [
       "   int_rate  loan_amnt  term  grade  annual_inc  home_ownership_NONE  \\\n",
       "0  0.306565   0.156931     0      1    0.141836                    0   \n",
       "1  0.577374   0.069747     1      2    0.184387                    0   \n",
       "\n",
       "   home_ownership_OTHER  home_ownership_OWN  home_ownership_RENT  \\\n",
       "0                     0                   0                    1   \n",
       "1                     0                   0                    1   \n",
       "\n",
       "   purpose_credit_card  purpose_debt_consolidation  purpose_educational  \\\n",
       "0                    1                           0                    0   \n",
       "1                    0                           0                    0   \n",
       "\n",
       "   purpose_home_improvement  purpose_house  purpose_major_purchase  \\\n",
       "0                         0              0                       0   \n",
       "1                         0              0                       0   \n",
       "\n",
       "   purpose_medical  purpose_moving  purpose_other  purpose_renewable_energy  \\\n",
       "0                0               0              0                         0   \n",
       "1                0               0              0                         0   \n",
       "\n",
       "   purpose_small_business  purpose_vacation  purpose_wedding  \n",
       "0                       0                 0                0  \n",
       "1                       0                 0                0  "
      ]
     },
     "execution_count": 33,
     "metadata": {},
     "output_type": "execute_result"
    }
   ],
   "source": [
    "df.head(2)"
   ]
  },
  {
   "cell_type": "markdown",
   "id": "af8ce935",
   "metadata": {},
   "source": [
    "### SPLIT THE DATA TO TEST AND TRAIN "
   ]
  },
  {
   "cell_type": "code",
   "execution_count": 36,
   "id": "25ad1896",
   "metadata": {
    "ExecuteTime": {
     "end_time": "2022-01-24T20:08:25.239794Z",
     "start_time": "2022-01-24T20:08:25.229825Z"
    }
   },
   "outputs": [],
   "source": [
    "# X as the feature and y as the target\n",
    "X = df.loc[:, df.columns !=\"int_rate\"]\n",
    "y = df.loc[:, df.columns ==\"int_rate\"]\n"
   ]
  },
  {
   "cell_type": "code",
   "execution_count": 37,
   "id": "9d2342da",
   "metadata": {
    "ExecuteTime": {
     "end_time": "2022-01-24T20:08:39.376440Z",
     "start_time": "2022-01-24T20:08:39.368466Z"
    }
   },
   "outputs": [
    {
     "data": {
      "text/plain": [
       "(36943, 21)"
      ]
     },
     "execution_count": 37,
     "metadata": {},
     "output_type": "execute_result"
    }
   ],
   "source": [
    "X.shape"
   ]
  },
  {
   "cell_type": "code",
   "execution_count": 38,
   "id": "00e889a7",
   "metadata": {
    "ExecuteTime": {
     "end_time": "2022-01-24T20:08:44.421438Z",
     "start_time": "2022-01-24T20:08:44.410467Z"
    }
   },
   "outputs": [
    {
     "data": {
      "text/plain": [
       "(36943, 1)"
      ]
     },
     "execution_count": 38,
     "metadata": {},
     "output_type": "execute_result"
    }
   ],
   "source": [
    "y.shape"
   ]
  },
  {
   "cell_type": "code",
   "execution_count": 35,
   "id": "c037d2d6",
   "metadata": {
    "ExecuteTime": {
     "end_time": "2022-01-24T20:08:18.753354Z",
     "start_time": "2022-01-24T20:08:18.714703Z"
    }
   },
   "outputs": [],
   "source": [
    "# Test and train split with 80:20 rule\n",
    "from sklearn.model_selection import train_test_split\n",
    "X_train, X_test, y_train, y_test = train_test_split(X, y, test_size=0.20, random_state=0)"
   ]
  },
  {
   "cell_type": "code",
   "execution_count": 39,
   "id": "65da758e",
   "metadata": {
    "ExecuteTime": {
     "end_time": "2022-01-24T20:12:12.495847Z",
     "start_time": "2022-01-24T20:12:12.478888Z"
    }
   },
   "outputs": [],
   "source": [
    "## MODEL building\n",
    "### Linear Regression"
   ]
  },
  {
   "cell_type": "code",
   "execution_count": 40,
   "id": "e7534215",
   "metadata": {
    "ExecuteTime": {
     "end_time": "2022-01-24T20:13:19.709498Z",
     "start_time": "2022-01-24T20:13:19.705287Z"
    }
   },
   "outputs": [],
   "source": [
    "from sklearn.linear_model import LinearRegression"
   ]
  },
  {
   "cell_type": "markdown",
   "id": "98464065",
   "metadata": {},
   "source": [
    "# MODEL 1 \n",
    "## Simple Linear Regression"
   ]
  },
  {
   "cell_type": "code",
   "execution_count": 42,
   "id": "149ee8f5",
   "metadata": {
    "ExecuteTime": {
     "end_time": "2022-01-24T20:14:57.720792Z",
     "start_time": "2022-01-24T20:14:57.680877Z"
    }
   },
   "outputs": [
    {
     "data": {
      "text/plain": [
       "0.8947219408441885"
      ]
     },
     "execution_count": 42,
     "metadata": {},
     "output_type": "execute_result"
    }
   ],
   "source": [
    "model = LinearRegression()\n",
    "# Training the model using train data\n",
    "model.fit(X_train, y_train)\n",
    "# Testing the trained model with the test data\n",
    "model.score(X_test, y_test)"
   ]
  },
  {
   "cell_type": "markdown",
   "id": "ac4505be",
   "metadata": {},
   "source": [
    "NOTES: The model scored 89% which is a good score"
   ]
  },
  {
   "cell_type": "markdown",
   "id": "7419df09",
   "metadata": {},
   "source": [
    "# MODEL 2\n",
    "## Linear Regression with hyptertuning"
   ]
  },
  {
   "cell_type": "code",
   "execution_count": 43,
   "id": "2e20b186",
   "metadata": {
    "ExecuteTime": {
     "end_time": "2022-01-24T20:21:15.381328Z",
     "start_time": "2022-01-24T20:21:15.150478Z"
    }
   },
   "outputs": [
    {
     "data": {
      "text/plain": [
       "array([0.89472194, 0.89813108, 0.89566205, 0.89859811, 0.90057376])"
      ]
     },
     "execution_count": 43,
     "metadata": {},
     "output_type": "execute_result"
    }
   ],
   "source": [
    "# Use different parameters for seeing the best optimal model\n",
    "# TO RANDOMIZE THE SAMPLE\n",
    "from sklearn.model_selection import ShuffleSplit\n",
    "from sklearn.model_selection import cross_val_score\n",
    "\n",
    "cv = ShuffleSplit(n_splits=5, test_size=0.2, random_state=0)\n",
    "cross_val_score(LinearRegression(), X, y, cv=cv)"
   ]
  },
  {
   "cell_type": "markdown",
   "id": "da310e45",
   "metadata": {},
   "source": [
    "NOTES: Getting the consistent score for 89 to 90%\n"
   ]
  },
  {
   "cell_type": "markdown",
   "id": "d58fc3fa",
   "metadata": {},
   "source": [
    "# MODELs more than 8:\n",
    "## Grid Search  to run model on different regressor and parameters to get best score"
   ]
  },
  {
   "cell_type": "code",
   "execution_count": 44,
   "id": "05190864",
   "metadata": {
    "ExecuteTime": {
     "end_time": "2022-01-24T20:27:56.551094Z",
     "start_time": "2022-01-24T20:27:56.547101Z"
    }
   },
   "outputs": [],
   "source": [
    "from sklearn.model_selection import GridSearchCV\n",
    "from sklearn.linear_model import Lasso\n",
    "from sklearn.tree import DecisionTreeRegressor"
   ]
  },
  {
   "cell_type": "code",
   "execution_count": 51,
   "id": "ffcf96a9",
   "metadata": {
    "ExecuteTime": {
     "end_time": "2022-01-24T20:39:53.784923Z",
     "start_time": "2022-01-24T20:39:53.774952Z"
    }
   },
   "outputs": [],
   "source": [
    "def find_best_using_gridsearch_cv(X,y):\n",
    "    ### Define 3 different algorightms in dictionary \n",
    "    algos = {\n",
    "         'linear_regression' : {\n",
    "            'model': LinearRegression(),\n",
    "            'params': {\n",
    "                'normalize': [True, False]\n",
    "            }\n",
    "        },\n",
    "        'lasso': {\n",
    "            'model': Lasso(),\n",
    "            'params': {\n",
    "                'alpha': [1,2],\n",
    "                'selection': ['random', 'cyclic']\n",
    "            }\n",
    "        },\n",
    "        'decision_tree': {\n",
    "            'model': DecisionTreeRegressor(),\n",
    "            'params': {\n",
    "                'criterion' : ['mse','friedman_mse'],\n",
    "                'splitter': ['best','random']\n",
    "            }\n",
    "        }  \n",
    "    }\n",
    "    scores = []\n",
    "    cv = ShuffleSplit(n_splits=5, test_size=0.2, random_state=0)\n",
    "    for algo_name, config in algos.items():\n",
    "        gs =  GridSearchCV(config['model'], config['params'], cv=cv, return_train_score=False)\n",
    "        gs.fit(X,y)\n",
    "        scores.append({\n",
    "            'model': algo_name,\n",
    "            'best_score': gs.best_score_,\n",
    "            'best_params': gs.best_params_\n",
    "        })\n",
    "\n",
    "    return pd.DataFrame(scores,columns=['model','best_score','best_params'])\n"
   ]
  },
  {
   "cell_type": "code",
   "execution_count": 52,
   "id": "72ed1df0",
   "metadata": {
    "ExecuteTime": {
     "end_time": "2022-01-24T20:40:02.797501Z",
     "start_time": "2022-01-24T20:39:57.574682Z"
    },
    "scrolled": true
   },
   "outputs": [
    {
     "data": {
      "text/html": [
       "<div>\n",
       "<style scoped>\n",
       "    .dataframe tbody tr th:only-of-type {\n",
       "        vertical-align: middle;\n",
       "    }\n",
       "\n",
       "    .dataframe tbody tr th {\n",
       "        vertical-align: top;\n",
       "    }\n",
       "\n",
       "    .dataframe thead th {\n",
       "        text-align: right;\n",
       "    }\n",
       "</style>\n",
       "<table border=\"1\" class=\"dataframe\">\n",
       "  <thead>\n",
       "    <tr style=\"text-align: right;\">\n",
       "      <th></th>\n",
       "      <th>model</th>\n",
       "      <th>best_score</th>\n",
       "      <th>best_params</th>\n",
       "    </tr>\n",
       "  </thead>\n",
       "  <tbody>\n",
       "    <tr>\n",
       "      <th>0</th>\n",
       "      <td>linear_regression</td>\n",
       "      <td>0.897537</td>\n",
       "      <td>{'normalize': True}</td>\n",
       "    </tr>\n",
       "    <tr>\n",
       "      <th>1</th>\n",
       "      <td>lasso</td>\n",
       "      <td>-0.000395</td>\n",
       "      <td>{'alpha': 1, 'selection': 'random'}</td>\n",
       "    </tr>\n",
       "    <tr>\n",
       "      <th>2</th>\n",
       "      <td>decision_tree</td>\n",
       "      <td>0.851199</td>\n",
       "      <td>{'criterion': 'friedman_mse', 'splitter': 'ran...</td>\n",
       "    </tr>\n",
       "  </tbody>\n",
       "</table>\n",
       "</div>"
      ],
      "text/plain": [
       "               model  best_score  \\\n",
       "0  linear_regression    0.897537   \n",
       "1              lasso   -0.000395   \n",
       "2      decision_tree    0.851199   \n",
       "\n",
       "                                         best_params  \n",
       "0                                {'normalize': True}  \n",
       "1                {'alpha': 1, 'selection': 'random'}  \n",
       "2  {'criterion': 'friedman_mse', 'splitter': 'ran...  "
      ]
     },
     "execution_count": 52,
     "metadata": {},
     "output_type": "execute_result"
    }
   ],
   "source": [
    "find_best_using_gridsearch_cv(X,y)"
   ]
  },
  {
   "cell_type": "markdown",
   "id": "74e7af9f",
   "metadata": {},
   "source": [
    "Based on above results we can say that LinearRegression gives the best score. Hence we will use that.\n",
    "Since Linear Regression is currently the best model, lets evaluate the model with Root Mean Square Error."
   ]
  },
  {
   "cell_type": "code",
   "execution_count": 53,
   "id": "923ab266",
   "metadata": {
    "ExecuteTime": {
     "end_time": "2022-01-24T20:50:35.389873Z",
     "start_time": "2022-01-24T20:50:35.358509Z"
    }
   },
   "outputs": [],
   "source": [
    "# Make predictions using the trained dataset initially with Linear Regression\n",
    "y_pred = model.predict(X_test)"
   ]
  },
  {
   "cell_type": "code",
   "execution_count": 54,
   "id": "0bb263e2",
   "metadata": {
    "ExecuteTime": {
     "end_time": "2022-01-24T20:51:12.770294Z",
     "start_time": "2022-01-24T20:51:12.749350Z"
    }
   },
   "outputs": [
    {
     "data": {
      "text/plain": [
       "array([[0.47315955],\n",
       "       [0.33181102],\n",
       "       [0.28327033],\n",
       "       ...,\n",
       "       [0.56294696],\n",
       "       [0.31061989],\n",
       "       [0.90237342]])"
      ]
     },
     "execution_count": 54,
     "metadata": {},
     "output_type": "execute_result"
    }
   ],
   "source": [
    "y_pred"
   ]
  },
  {
   "cell_type": "code",
   "execution_count": 56,
   "id": "17abcc55",
   "metadata": {
    "ExecuteTime": {
     "end_time": "2022-01-24T20:51:42.734233Z",
     "start_time": "2022-01-24T20:51:42.710114Z"
    }
   },
   "outputs": [
    {
     "data": {
      "text/plain": [
       "0.8947219408441885"
      ]
     },
     "execution_count": 56,
     "metadata": {},
     "output_type": "execute_result"
    }
   ],
   "source": [
    "from sklearn.metrics import r2_score\n",
    "r2_score(y_test, y_pred)"
   ]
  },
  {
   "cell_type": "markdown",
   "id": "94d00d53",
   "metadata": {},
   "source": [
    "#### The above shows that the r2socre is not 1 and performing 0.89 so not overfitting.\n",
    "#### Since the results of r2score error is not near to zero, the model is not underfitting.\n",
    "### HENCE THE LINEAR REGRESSION MODEL IS PEFORMING WELL FOR THIS DATASET."
   ]
  },
  {
   "cell_type": "code",
   "execution_count": null,
   "id": "f288a894",
   "metadata": {},
   "outputs": [],
   "source": []
  }
 ],
 "metadata": {
  "kernelspec": {
   "display_name": "Python 3",
   "language": "python",
   "name": "python3"
  },
  "language_info": {
   "codemirror_mode": {
    "name": "ipython",
    "version": 3
   },
   "file_extension": ".py",
   "mimetype": "text/x-python",
   "name": "python",
   "nbconvert_exporter": "python",
   "pygments_lexer": "ipython3",
   "version": "3.8.8"
  },
  "toc": {
   "base_numbering": 1,
   "nav_menu": {},
   "number_sections": true,
   "sideBar": true,
   "skip_h1_title": false,
   "title_cell": "Table of Contents",
   "title_sidebar": "Contents",
   "toc_cell": false,
   "toc_position": {},
   "toc_section_display": true,
   "toc_window_display": false
  }
 },
 "nbformat": 4,
 "nbformat_minor": 5
}
